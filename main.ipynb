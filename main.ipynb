{
 "cells": [
  {
   "cell_type": "code",
   "execution_count": 1,
   "metadata": {
    "collapsed": true
   },
   "outputs": [],
   "source": [
    "from utils import *\n",
    "\n",
    "%load_ext autoreload\n",
    "%autoreload 2"
   ]
  },
  {
   "cell_type": "code",
   "execution_count": 2,
   "metadata": {
    "collapsed": true
   },
   "outputs": [],
   "source": [
    "n_candidates = 3\n",
    "rdm = np.random.RandomState(seed=123)\n",
    "#sequence dataset to be transformed in a single-valued representation; 'z' encodes missing values\n",
    "seqs = ['aaabbaacc', 'bbbaaaccaa', 'aaaabcbcab', 'bcbcb', 'z', 'z', 'z', 'z' ,'z']\n",
    "labels = [1,0,1,0,1,1,1,0,1]\n",
    "#which strategy to use to handle missing values\n",
    "missing = 'lr'"
   ]
  },
  {
   "cell_type": "code",
   "execution_count": 3,
   "metadata": {},
   "outputs": [
    {
     "name": "stdout",
     "output_type": "stream",
     "text": [
      "1) Candidate evaluation\n",
      "\n",
      "candidate: aaab\n",
      "[(0, 1), (0, 1), (1, 0), (3, 0)]\n",
      "split:((1, 1), (0, 0)) ig:0.458 margin:1\n",
      "split:((1, 1, 0), (0,)) ig:0.197 margin:2\n",
      "best split: {'subseq': 'aaab', 'ig': 0.45810589515712374, 'z': 0, 'margin': 1, 'threshold': 1, 'index': 0}\n",
      "\n",
      "candidate: aab\n",
      "[(0, 1), (0, 1), (1, 0), (2, 0)]\n",
      "split:((1, 1), (0, 0)) ig:0.458 margin:1\n",
      "split:((1, 1, 0), (0,)) ig:0.197 margin:1\n",
      "best split: {'subseq': 'aab', 'ig': 0.45810589515712374, 'z': 0, 'margin': 1, 'threshold': 1, 'index': 0}\n",
      "\n",
      "candidate: b\n",
      "[(0, 0), (0, 0), (0, 1), (0, 1)]\n",
      "\n",
      "2) Shapelet selection\n",
      "selected shapelet:aab ig:0.458 margin:1\n",
      "\n",
      "3) Dataset transformation\n",
      "transformed sequences:\n",
      "('aaabbaacc', 0)\n",
      "('bbbaaaccaa', 1)\n",
      "('aaaabcbcab', 0)\n",
      "('bcbcb', 2)\n",
      "('z', 0)\n",
      "('z', 0)\n",
      "('z', 0)\n",
      "('z', 0)\n",
      "('z', 0)\n"
     ]
    }
   ],
   "source": [
    "#get non-empty seqs and their labels\n",
    "actual_seqs, actual_labels = zip(*[(_, labels[i]) for i, _ in enumerate(seqs) if _ != 'z'])\n",
    "\n",
    "#generate unique candidates; sort them to preserve order\n",
    "candidates = set([get_random_subsequence(actual_seqs, rdm=rdm) for _ in range(n_candidates)])\n",
    "candidates = list(sorted(candidates))\n",
    "\n",
    "#evaluate candidates according to 'lr' or 'plain' method\n",
    "print('1) Candidate evaluation')\n",
    "if missing == 'lr':\n",
    "    missing_data_labels = [l for i,l in enumerate(labels) if seqs[i] == 'z']\n",
    "    candidate_evals = [evaluate_candidate(c,\n",
    "                                          [sliding_ed(s, c) for s in actual_seqs],\n",
    "                                          actual_labels,\n",
    "                                          entropy(labels), \n",
    "                                          missing_data_labels=missing_data_labels\n",
    "                                          ) for c in candidates]    \n",
    "    \n",
    "else:#'plain'  \n",
    "    candidate_evals = [evaluate_candidate(c,\n",
    "                                          [sliding_ed(s, c) for s in seqs],\n",
    "                                          labels,\n",
    "                                          entropy(labels),\n",
    "                                          missing='plain') for c in candidates]\n",
    "\n",
    "#select candidate (shapelet) yielding maximum information gain (to break ties, max margin and min length)\n",
    "shapelet = sorted(candidate_evals, key = lambda e : (-e['ig'],#max ig\n",
    "                                                     -e['margin'],#max margin\n",
    "                                                     len(e['subseq'])))[0]#min length\n",
    "\n",
    "print('\\n2) Shapelet selection')\n",
    "print('selected shapelet:{} ig:{:.3f} margin:{}'.format(shapelet['subseq'], shapelet['ig'], shapelet['margin']))\n",
    "\n",
    "#transform sequence dataset based on the selected shapelet\n",
    "if missing == 'lr':\n",
    "    transformed_seqs = [sliding_ed(s, shapelet['subseq']) if s != 'z' else shapelet['z'] for s in seqs]\n",
    "else:\n",
    "    transformed_seqs = [sliding_ed(s, shapelet['subseq']) for s in seqs]\n",
    "    \n",
    "print('\\n3) Dataset transformation')\n",
    "print('transformed sequences:')\n",
    "for _ in zip(seqs, transformed_seqs) : print(_)"
   ]
  }
 ],
 "metadata": {
  "kernelspec": {
   "display_name": "Python 3",
   "language": "python",
   "name": "python3"
  },
  "language_info": {
   "codemirror_mode": {
    "name": "ipython",
    "version": 3
   },
   "file_extension": ".py",
   "mimetype": "text/x-python",
   "name": "python",
   "nbconvert_exporter": "python",
   "pygments_lexer": "ipython3",
   "version": "3.6.4"
  }
 },
 "nbformat": 4,
 "nbformat_minor": 2
}
